{
  "cells": [
    {
      "cell_type": "markdown",
      "metadata": {
        "id": "view-in-github",
        "colab_type": "text"
      },
      "source": [
        "<a href=\"https://colab.research.google.com/github/Mevaria/AAI614_Wehbe/blob/main/Pandas%20VS%20Dask.ipynb\" target=\"_parent\"><img src=\"https://colab.research.google.com/assets/colab-badge.svg\" alt=\"Open In Colab\"/></a>"
      ]
    },
    {
      "cell_type": "markdown",
      "source": [
        "Vanessa Wehbe"
      ],
      "metadata": {
        "id": "fsKh4odMmqay"
      },
      "id": "fsKh4odMmqay"
    },
    {
      "cell_type": "markdown",
      "id": "b47beb94",
      "metadata": {
        "id": "b47beb94"
      },
      "source": [
        "# Experiment: pandas vs Dask on the NYC Parking Tickets dataset\n",
        "\n",
        "\n",
        "**Dataset:**  \n",
        " ([kaggle.com](https://www.kaggle.com/datasets/new-york-city/nyc-parking-tickets?resource=download))\n",
        "\n"
      ]
    },
    {
      "cell_type": "code",
      "source": [
        "!pip install memory-profiler psutil\n"
      ],
      "metadata": {
        "colab": {
          "base_uri": "https://localhost:8080/"
        },
        "id": "RM9ewbBsj2Ky",
        "outputId": "5ed43acd-3520-4f94-8f43-639a4bd505b1"
      },
      "id": "RM9ewbBsj2Ky",
      "execution_count": 8,
      "outputs": [
        {
          "output_type": "stream",
          "name": "stdout",
          "text": [
            "Collecting memory-profiler\n",
            "  Downloading memory_profiler-0.61.0-py3-none-any.whl.metadata (20 kB)\n",
            "Requirement already satisfied: psutil in /usr/local/lib/python3.12/dist-packages (5.9.5)\n",
            "Downloading memory_profiler-0.61.0-py3-none-any.whl (31 kB)\n",
            "Installing collected packages: memory-profiler\n",
            "Successfully installed memory-profiler-0.61.0\n"
          ]
        }
      ]
    },
    {
      "cell_type": "code",
      "execution_count": 9,
      "id": "e831ab15",
      "metadata": {
        "id": "e831ab15"
      },
      "outputs": [],
      "source": [
        "# Imports\n",
        "import time\n",
        "import pandas as pd\n",
        "import dask.dataframe as dd\n",
        "import os\n",
        "from memory_profiler import memory_usage\n",
        "import psutil"
      ]
    },
    {
      "cell_type": "code",
      "source": [
        "csv_path = \"/content/Parking_Violations_Issued_-_Fiscal_Year_2017.csv\""
      ],
      "metadata": {
        "id": "uarlzNTIkwkV"
      },
      "id": "uarlzNTIkwkV",
      "execution_count": null,
      "outputs": []
    },
    {
      "cell_type": "markdown",
      "id": "b7c111b0",
      "metadata": {
        "id": "b7c111b0"
      },
      "source": [
        "## 1. Using pandas"
      ]
    },
    {
      "cell_type": "code",
      "execution_count": 10,
      "id": "fb20e30c",
      "metadata": {
        "colab": {
          "base_uri": "https://localhost:8080/"
        },
        "id": "fb20e30c",
        "outputId": "788b47ce-7554-4929-9861-af2427af96e8"
      },
      "outputs": [
        {
          "output_type": "stream",
          "name": "stdout",
          "text": [
            "Pandas load time: 41.55 seconds\n",
            "Memory used: 1584.40 MB\n",
            "Vehicle Make\n",
            "FORD     738281\n",
            "TOYOT    696746\n",
            "HONDA    620879\n",
            "NISSA    528741\n",
            "CHEVR    412110\n",
            "FRUEH    248388\n",
            "ME/BE    224140\n",
            "BMW      215784\n",
            "DODGE    214393\n",
            "JEEP     200299\n",
            "dtype: int64\n",
            "Pandas groupby time: 0.35 seconds\n"
          ]
        }
      ],
      "source": [
        "def get_memory_mb():\n",
        "    return psutil.Process(os.getpid()).memory_info().rss / (1024 ** 2)\n",
        "\n",
        "mem_before = get_memory_mb()\n",
        "t0 = time.time()\n",
        "df = pd.read_csv(csv_path, low_memory=False)\n",
        "t1 = time.time()\n",
        "mem_after = get_memory_mb()\n",
        "\n",
        "print(f\"Pandas load time: {t1 - t0:.2f} seconds\")\n",
        "print(f\"Memory used: {mem_after - mem_before:.2f} MB\")\n",
        "\n",
        "t0 = time.time()\n",
        "result_pd = df.groupby(\"Vehicle Make\").size().nlargest(10)\n",
        "t1 = time.time()\n",
        "print(result_pd)\n",
        "print(f\"Pandas groupby time: {t1 - t0:.2f} seconds\")"
      ]
    },
    {
      "cell_type": "markdown",
      "id": "4e45f38b",
      "metadata": {
        "id": "4e45f38b"
      },
      "source": [
        "## 2. Using Dask"
      ]
    },
    {
      "cell_type": "code",
      "execution_count": 11,
      "id": "16fc7a15",
      "metadata": {
        "colab": {
          "base_uri": "https://localhost:8080/"
        },
        "id": "16fc7a15",
        "outputId": "04668ae9-fe3a-4c58-a4e6-a908e902e038"
      },
      "outputs": [
        {
          "output_type": "stream",
          "name": "stdout",
          "text": [
            "Dask load time (lazy): 0.04 seconds\n",
            "Memory used during load: 0.03 MB\n",
            "Vehicle Make\n",
            "FORD     773305\n",
            "TOYOT    729992\n",
            "HONDA    650823\n",
            "NISSA    553816\n",
            "CHEVR    431913\n",
            "FRUEH    260345\n",
            "ME/BE    234807\n",
            "BMW      226354\n",
            "DODGE    224654\n",
            "JEEP     210118\n",
            "dtype: int64\n",
            "Dask compute time: 27.96 seconds\n",
            "Memory used during compute: 8.50 MB\n"
          ]
        }
      ],
      "source": [
        "import dask.dataframe as dd\n",
        "import psutil, os, time\n",
        "\n",
        "dtype_fixes = {\"House Number\": \"object\", \"Time First Observed\": \"object\"}\n",
        "\n",
        "mem_before = get_memory_mb()\n",
        "t0 = time.time()\n",
        "ddf = dd.read_csv(csv_path, assume_missing=True, dtype=dtype_fixes, blocksize=\"64MB\")\n",
        "t1 = time.time()\n",
        "mem_after = get_memory_mb()\n",
        "\n",
        "print(f\"Dask load time (lazy): {t1 - t0:.2f} seconds\")\n",
        "print(f\"Memory used during load: {mem_after - mem_before:.2f} MB\")\n",
        "\n",
        "# Trigger computation\n",
        "t0 = time.time()\n",
        "result_dd = ddf.groupby(\"Vehicle Make\").size().nlargest(10).compute()\n",
        "t1 = time.time()\n",
        "mem_after_compute = get_memory_mb()\n",
        "\n",
        "print(result_dd)\n",
        "print(f\"Dask compute time: {t1 - t0:.2f} seconds\")\n",
        "print(f\"Memory used during compute: {mem_after_compute - mem_before:.2f} MB\")"
      ]
    }
  ],
  "metadata": {
    "colab": {
      "provenance": [],
      "include_colab_link": true
    },
    "language_info": {
      "name": "python"
    },
    "kernelspec": {
      "name": "python3",
      "display_name": "Python 3"
    }
  },
  "nbformat": 4,
  "nbformat_minor": 5
}