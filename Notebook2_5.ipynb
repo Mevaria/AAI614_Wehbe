{
  "cells": [
    {
      "cell_type": "markdown",
      "metadata": {
        "id": "view-in-github",
        "colab_type": "text"
      },
      "source": [
        "<a href=\"https://colab.research.google.com/github/Mevaria/AAI614_Wehbe/blob/main/Notebook2_5.ipynb\" target=\"_parent\"><img src=\"https://colab.research.google.com/assets/colab-badge.svg\" alt=\"Open In Colab\"/></a>"
      ]
    },
    {
      "cell_type": "markdown",
      "metadata": {
        "id": "ogvebm8Hb45P"
      },
      "source": [
        "# AAI614: Data Science & its Applications\n",
        "\n",
        "*Notebook 2.5: Practice with Parquet and File Types*\n",
        "\n"
      ]
    },
    {
      "cell_type": "code",
      "source": [
        "!pip install pyarrow"
      ],
      "metadata": {
        "colab": {
          "base_uri": "https://localhost:8080/"
        },
        "id": "xM3YOTQ0WS2N",
        "outputId": "1d77d391-d844-4436-f623-52eb678a64a9"
      },
      "execution_count": 1,
      "outputs": [
        {
          "output_type": "stream",
          "name": "stdout",
          "text": [
            "Requirement already satisfied: pyarrow in /usr/local/lib/python3.12/dist-packages (18.1.0)\n"
          ]
        }
      ]
    },
    {
      "cell_type": "code",
      "execution_count": 4,
      "metadata": {
        "id": "hVazSxkyb45Q"
      },
      "outputs": [],
      "source": [
        "import pandas as pd\n",
        "import time\n",
        "import ssl\n",
        "\n",
        "ssl._create_default_https_context = ssl._create_unverified_context"
      ]
    },
    {
      "cell_type": "code",
      "execution_count": 5,
      "metadata": {
        "id": "3Bp4qc8Yb45Q"
      },
      "outputs": [],
      "source": [
        "class Timer:\n",
        "    def __enter__(self):\n",
        "        self.start = time.perf_counter()\n",
        "        return self\n",
        "\n",
        "    def __exit__(self, *args):\n",
        "        self.end = time.perf_counter()\n",
        "        self.interval = self.end - self.start"
      ]
    },
    {
      "cell_type": "markdown",
      "metadata": {
        "id": "bpxNN_Gnb45R"
      },
      "source": [
        "##### Read the Parqeut file and time it"
      ]
    },
    {
      "cell_type": "code",
      "execution_count": 6,
      "metadata": {
        "id": "X0C54TvPb45R",
        "colab": {
          "base_uri": "https://localhost:8080/"
        },
        "outputId": "78a74ebe-709c-4215-ad2c-731fb257c70e"
      },
      "outputs": [
        {
          "output_type": "stream",
          "name": "stdout",
          "text": [
            "0.35003377999998975\n"
          ]
        }
      ],
      "source": [
        "with Timer() as t_pd:\n",
        "    df = pd.read_parquet('https://raw.githubusercontent.com/harmanani/AAI614/main/Week%202/niaaa-report.parquet')\n",
        "print(t_pd.interval)"
      ]
    },
    {
      "cell_type": "markdown",
      "metadata": {
        "id": "lfEHpC7Eb45R"
      },
      "source": [
        "#### Read the CSV file and time it"
      ]
    },
    {
      "cell_type": "code",
      "execution_count": 7,
      "metadata": {
        "id": "SkiwzQzfb45R",
        "colab": {
          "base_uri": "https://localhost:8080/"
        },
        "outputId": "5b84f880-22f8-406c-aadd-47f83f8a0543"
      },
      "outputs": [
        {
          "output_type": "stream",
          "name": "stdout",
          "text": [
            "0.14548256300000162\n"
          ]
        }
      ],
      "source": [
        "with Timer() as t_pd:\n",
        "    df = pd.read_csv('https://raw.githubusercontent.com/harmanani/AAI614/main/Week%202/niaaa-report.csv')\n",
        "print(t_pd.interval)"
      ]
    },
    {
      "cell_type": "markdown",
      "metadata": {
        "id": "1T7A_OJXb45S"
      },
      "source": [
        "#### Read the ZIP file and time it"
      ]
    },
    {
      "cell_type": "code",
      "execution_count": 8,
      "metadata": {
        "id": "L12dVVTab45S",
        "colab": {
          "base_uri": "https://localhost:8080/"
        },
        "outputId": "ed35254f-0002-42fa-8f66-72f61aec6273"
      },
      "outputs": [
        {
          "output_type": "stream",
          "name": "stdout",
          "text": [
            "0.1257508180000002\n"
          ]
        }
      ],
      "source": [
        "import zipfile\n",
        "with Timer() as t_pd:\n",
        "    df = pd.read_csv('https://raw.githubusercontent.com/harmanani/AAI614/main/Week%202/niaaa-report.zip', compression=\"zip\")\n",
        "print(t_pd.interval)"
      ]
    },
    {
      "cell_type": "code",
      "source": [
        "import numpy as np\n",
        "import string, random\n",
        "from pathlib import Path\n",
        "from zipfile import ZipFile, ZIP_DEFLATED\n",
        "\n",
        "def generate_big_dataset(rows=1_000_000, out_dir=\"output\", base_name=\"big_dataset\"):\n",
        "    \"\"\"\n",
        "    Generate a synthetic dataset with the given number of rows and\n",
        "    save it as CSV, ZIP (containing the CSV), and Parquet.\n",
        "\n",
        "    Args:\n",
        "        rows (int): number of rows to generate\n",
        "        out_dir (str): directory to save files\n",
        "        base_name (str): base name for output files\n",
        "    \"\"\"\n",
        "    Path(out_dir).mkdir(parents=True, exist_ok=True)\n",
        "\n",
        "    # Generate synthetic data\n",
        "    rng = np.random.default_rng(42)\n",
        "    categories = [f\"cat_{i}\" for i in range(50)]\n",
        "    dates = pd.date_range(\"2010-01-01\", periods=3650, freq=\"D\")\n",
        "\n",
        "    def random_strings(n, length=10):\n",
        "        letters = string.ascii_letters + string.digits\n",
        "        return [\"\".join(random.choices(letters, k=length)) for _ in range(n)]\n",
        "\n",
        "    df = pd.DataFrame({\n",
        "        \"id\": np.arange(rows, dtype=np.int64),\n",
        "        \"category\": rng.choice(categories, size=rows),\n",
        "        \"value_float\": rng.normal(100, 15, size=rows),\n",
        "        \"value_int\": rng.integers(0, 1000, size=rows),\n",
        "        \"flag\": rng.choice([True, False], size=rows),\n",
        "        \"date\": rng.choice(dates, size=rows),\n",
        "        \"text\": random_strings(rows, 12),\n",
        "    })\n",
        "\n",
        "    # File paths\n",
        "    csv_path = Path(out_dir) / f\"{base_name}.csv\"\n",
        "    zip_path = Path(out_dir) / f\"{base_name}.zip\"\n",
        "    parquet_path = Path(out_dir) / f\"{base_name}.parquet\"\n",
        "\n",
        "    # Save CSV\n",
        "    df.to_csv(csv_path, index=False)\n",
        "\n",
        "    # Save ZIP (containing CSV)\n",
        "    with ZipFile(zip_path, \"w\", compression=ZIP_DEFLATED, compresslevel=6) as zf:\n",
        "        zf.write(csv_path, arcname=csv_path.name)\n",
        "\n",
        "    # Save Parquet (requires pyarrow or fastparquet)\n",
        "    df.to_parquet(parquet_path, index=False, engine=\"pyarrow\")\n",
        "\n",
        "    print(f\"Generated {rows:,} rows\")\n",
        "    print(f\"CSV: {csv_path}\")\n",
        "    print(f\"ZIP: {zip_path}\")\n",
        "    print(f\"Parquet: {parquet_path}\")\n",
        "    return df\n"
      ],
      "metadata": {
        "id": "RHgMpIiAWY7u"
      },
      "execution_count": 16,
      "outputs": []
    },
    {
      "cell_type": "code",
      "source": [
        "df_big = generate_big_dataset(rows=2_000_000, out_dir=\"output\", base_name=\"niaaa_fake\")"
      ],
      "metadata": {
        "colab": {
          "base_uri": "https://localhost:8080/"
        },
        "id": "vJAD3uW9YUwk",
        "outputId": "67a919c2-b476-4900-f308-dc40014c9adb"
      },
      "execution_count": 17,
      "outputs": [
        {
          "output_type": "stream",
          "name": "stdout",
          "text": [
            "Generated 2,000,000 rows\n",
            "CSV: output/niaaa_fake.csv\n",
            "ZIP: output/niaaa_fake.zip\n",
            "Parquet: output/niaaa_fake.parquet\n"
          ]
        }
      ]
    },
    {
      "cell_type": "code",
      "source": [
        "with Timer() as t_pd:\n",
        "    df = pd.read_parquet('/content/output/niaaa_fake.parquet')\n",
        "print(t_pd.interval)"
      ],
      "metadata": {
        "colab": {
          "base_uri": "https://localhost:8080/"
        },
        "id": "laqz3S_EYmzX",
        "outputId": "88f0fbb5-77d4-496b-88f8-6b4d9824ba4c"
      },
      "execution_count": 18,
      "outputs": [
        {
          "output_type": "stream",
          "name": "stdout",
          "text": [
            "1.7667702629998985\n"
          ]
        }
      ]
    },
    {
      "cell_type": "code",
      "source": [
        "with Timer() as t_pd:\n",
        "    df = pd.read_csv('/content/output/niaaa_fake.csv')\n",
        "print(t_pd.interval)"
      ],
      "metadata": {
        "colab": {
          "base_uri": "https://localhost:8080/"
        },
        "id": "9mSGxk4tYvhL",
        "outputId": "557cd48a-e559-4bf9-8136-8539670405a7"
      },
      "execution_count": 19,
      "outputs": [
        {
          "output_type": "stream",
          "name": "stdout",
          "text": [
            "4.6059821200000215\n"
          ]
        }
      ]
    },
    {
      "cell_type": "code",
      "source": [
        "import zipfile\n",
        "with Timer() as t_pd:\n",
        "    df = pd.read_csv('/content/output/niaaa_fake.zip', compression=\"zip\")\n",
        "print(t_pd.interval)"
      ],
      "metadata": {
        "colab": {
          "base_uri": "https://localhost:8080/"
        },
        "id": "jAht5xsRY1tR",
        "outputId": "1cee10aa-efe1-44ec-c00a-147e945f83d6"
      },
      "execution_count": 20,
      "outputs": [
        {
          "output_type": "stream",
          "name": "stdout",
          "text": [
            "4.640943649000064\n"
          ]
        }
      ]
    }
  ],
  "metadata": {
    "kernelspec": {
      "display_name": "Python 3",
      "language": "python",
      "name": "python3"
    },
    "language_info": {
      "codemirror_mode": {
        "name": "ipython",
        "version": 3
      },
      "file_extension": ".py",
      "mimetype": "text/x-python",
      "name": "python",
      "nbconvert_exporter": "python",
      "pygments_lexer": "ipython3",
      "version": "3.10.11"
    },
    "colab": {
      "provenance": [],
      "include_colab_link": true
    }
  },
  "nbformat": 4,
  "nbformat_minor": 0
}