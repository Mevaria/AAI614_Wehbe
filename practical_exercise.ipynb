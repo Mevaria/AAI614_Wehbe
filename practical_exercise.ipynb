{
  "cells": [
    {
      "cell_type": "markdown",
      "metadata": {
        "id": "view-in-github",
        "colab_type": "text"
      },
      "source": [
        "<a href=\"https://colab.research.google.com/github/Mevaria/AAI614_Wehbe/blob/main/practical_exercise.ipynb\" target=\"_parent\"><img src=\"https://colab.research.google.com/assets/colab-badge.svg\" alt=\"Open In Colab\"/></a>"
      ]
    },
    {
      "cell_type": "markdown",
      "id": "f26967d9",
      "metadata": {
        "id": "f26967d9"
      },
      "source": [
        "Practical Exercise: Using Git and GitHub"
      ]
    },
    {
      "cell_type": "code",
      "execution_count": 2,
      "id": "66bc9cfa",
      "metadata": {
        "colab": {
          "base_uri": "https://localhost:8080/"
        },
        "id": "66bc9cfa",
        "outputId": "25e64592-ed97-4439-b6a9-c0b96ef75f1b"
      },
      "outputs": [
        {
          "output_type": "stream",
          "name": "stdout",
          "text": [
            "Hello from course AAI614!\n"
          ]
        }
      ],
      "source": [
        "print(\"Hello from course AAI614!\")"
      ]
    }
  ],
  "metadata": {
    "language_info": {
      "name": "python"
    },
    "colab": {
      "provenance": [],
      "include_colab_link": true
    },
    "kernelspec": {
      "name": "python3",
      "display_name": "Python 3"
    }
  },
  "nbformat": 4,
  "nbformat_minor": 5
}