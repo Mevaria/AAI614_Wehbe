{
 "cells": [
  {
   "cell_type": "markdown",
   "id": "f26967d9",
   "metadata": {},
   "source": [
    "Practical Exercise: Using Git and GitHub"
   ]
  },
  {
   "cell_type": "code",
   "execution_count": null,
   "id": "66bc9cfa",
   "metadata": {},
   "outputs": [],
   "source": [
    "print(\"Hello from course AAI614!\")"
   ]
  }
 ],
 "metadata": {
  "language_info": {
   "name": "python"
  }
 },
 "nbformat": 4,
 "nbformat_minor": 5
}
